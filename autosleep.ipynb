{
 "cells": [
  {
   "cell_type": "code",
   "execution_count": null,
   "metadata": {},
   "outputs": [],
   "source": [
    "import pandas as pd\n",
    "import numpy as np\n",
    "import matplotlib.pyplot as plt\n",
    "import seaborn as sns\n",
    "from datetime import datetime, timedelta\n",
    "from dateutil import parser"
   ]
  },
  {
   "cell_type": "code",
   "execution_count": null,
   "metadata": {},
   "outputs": [],
   "source": [
    "df = pd.read_csv('autosleep.csv')\n",
    "df['ISO8601'] = df[\"ISO8601\"].astype(\"string\").str.split('T').str[0] #convert ISO8601 to string of date\n",
    "#df['ISO8601']\n",
    "sleeptime = df[[\"ISO8601\", \"asleep\"]]\n",
    "\"\"\"\n",
    "init_date = 6\n",
    "sep = 30\n",
    "oct = 31\n",
    "nov = 30\n",
    "\"\"\""
   ]
  },
  {
   "cell_type": "code",
   "execution_count": null,
   "metadata": {},
   "outputs": [],
   "source": [
    "\n",
    "def fill_missing_dates(df):\n",
    "    df['ISO8601'] = pd.to_datetime(df['ISO8601'])\n",
    "    # Set date range for the DataFrame\n",
    "    start_date = df['ISO8601'].min()\n",
    "    end_date = df['ISO8601'].max()\n",
    "    date_range = pd.date_range(start=start_date, end=end_date, freq='D')\n",
    "\n",
    "    # Reindex the DataFrame to fill in the missing dates\n",
    "    df.set_index('ISO8601', inplace=True)\n",
    "    df = df.reindex(date_range, fill_value='00:00:00')\n",
    "\n",
    "    # Reset the index to get 'ISO8601' column back\n",
    "    df.reset_index(inplace=True)\n",
    "    df.rename(columns={'index': 'ISO8601'}, inplace=True)\n",
    "\n",
    "    return df"
   ]
  },
  {
   "cell_type": "code",
   "execution_count": null,
   "metadata": {},
   "outputs": [],
   "source": [
    "sleeptime = fill_missing_dates(sleeptime)"
   ]
  },
  {
   "cell_type": "code",
   "execution_count": null,
   "metadata": {},
   "outputs": [],
   "source": [
    "# converting string time into float value hours\n",
    "def converter(timestr):\n",
    "    timestr = timestr.split(':')\n",
    "    return (int(timestr[0]) + int(timestr[1])/60 + int(timestr[2])/3600).__round__(2)"
   ]
  },
  {
   "cell_type": "code",
   "execution_count": null,
   "metadata": {},
   "outputs": [],
   "source": [
    "# if there is no sleep data for a day, it will be filled with 0\n",
    "df = fill_missing_dates(df)"
   ]
  },
  {
   "cell_type": "code",
   "execution_count": null,
   "metadata": {},
   "outputs": [],
   "source": [
    "asleep = df[\"asleep\"].apply(converter)\n",
    "#asleep_rmRW = asleep.drop([init_date+sep+29, init_date+sep+30, init_date+sep+31, init_date+oct+32])"
   ]
  },
  {
   "cell_type": "code",
   "execution_count": null,
   "metadata": {},
   "outputs": [],
   "source": [
    "\n",
    "plt.figure(figsize=(20, 6))\n",
    "plt.plot(asleep)\n",
    "plt.yticks([0,1,2,3,4,5,6,7,8,9,10,11,12])\n",
    "\n",
    "#plt.xticks([0, sep-init_date, sep+oct-init_date, sep+oct+nov-init_date], ['Sep 6th', 'Oct 1st', 'Nov 1st', 'Dec 1st'])\n",
    "plt.grid(linestyle='--', linewidth=0.5)\n",
    "plt.xlabel('Day')\n",
    "plt.ylabel('Hours')\n",
    "#overall_avg = np.mean(asleep_rmRW)\n",
    "#plt.axhline(y=overall_avg, color='green', linestyle='-', linewidth=2, alpha=0.7, label=f'Overall Average: {overall_avg:.2f}')\n",
    "#plt.text(asleep.count(), overall_avg, f'{overall_avg:.2f}', verticalalignment='bottom', horizontalalignment='left', color='green', fontsize=10)\n",
    "\n",
    "previous_avg = None\n",
    "previous_end_index = None\n",
    "\n",
    "for i in range(0, len(asleep), 7):\n",
    "    if i + 7 <= len(asleep):\n",
    "        current_avg = np.mean(asleep[i:i+7])\n",
    "\n",
    "        # Plot horizontal line for current 7-day cycle\n",
    "        plt.hlines(current_avg, i, i+6, colors='r', linestyles='-', alpha=0.7)\n",
    "        plt.text(i+6, current_avg, f'{current_avg:.2f}', verticalalignment='bottom', horizontalalignment='right', color='blue', fontsize=10)\n",
    "\n",
    "        # If there is a previous cycle, draw a line connecting the last average to the first average of the current cycle\n",
    "        if previous_avg is not None:\n",
    "            plt.plot([previous_end_index, i], [previous_avg, current_avg], color='r', linestyle='-', alpha=0.7)\n",
    "\n",
    "        # Update the previous cycle's average and end index\n",
    "        previous_avg = current_avg\n",
    "        previous_end_index = i+6\n",
    "\n",
    "plt.show()"
   ]
  },
  {
   "cell_type": "code",
   "execution_count": null,
   "metadata": {},
   "outputs": [],
   "source": [
    "asleep.head()"
   ]
  },
  {
   "cell_type": "code",
   "execution_count": null,
   "metadata": {},
   "outputs": [],
   "source": [
    "plt.hist(asleep, bins=13, edgecolor='black', linewidth=0.5)\n",
    "plt.xticks([0,1,2,3,4,5,6,7,8,9,10,11,12,13])\n",
    "plt.show()"
   ]
  },
  {
   "cell_type": "code",
   "execution_count": null,
   "metadata": {},
   "outputs": [],
   "source": []
  }
 ],
 "metadata": {
  "kernelspec": {
   "display_name": "Python 3",
   "language": "python",
   "name": "python3"
  },
  "language_info": {
   "codemirror_mode": {
    "name": "ipython",
    "version": 3
   },
   "file_extension": ".py",
   "mimetype": "text/x-python",
   "name": "python",
   "nbconvert_exporter": "python",
   "pygments_lexer": "ipython3",
   "version": "3.12.0"
  }
 },
 "nbformat": 4,
 "nbformat_minor": 2
}
